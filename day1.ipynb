{
 "cells": [
  {
   "cell_type": "code",
   "execution_count": 5,
   "metadata": {},
   "outputs": [],
   "source": [
    "with open('day1.txt') as f:\n",
    "    data = f.read().strip()\n",
    "\n",
    "data = data.split('\\n')"
   ]
  },
  {
   "cell_type": "code",
   "execution_count": 3,
   "metadata": {},
   "outputs": [],
   "source": [
    "str_to_int = {\n",
    "    \"nine\": \"9\",\n",
    "    \"eight\": \"8\",\n",
    "    \"seven\": \"7\",\n",
    "    \"six\": \"6\",\n",
    "    \"five\": \"5\",\n",
    "    \"four\": \"4\",\n",
    "    \"three\": \"3\",\n",
    "    \"two\": \"2\",\n",
    "    \"one\": \"1\",\n",
    "    \"zero\": \"0\",\n",
    "}"
   ]
  },
  {
   "cell_type": "markdown",
   "metadata": {},
   "source": [
    "# Part 1"
   ]
  },
  {
   "cell_type": "code",
   "execution_count": 6,
   "metadata": {},
   "outputs": [
    {
     "data": {
      "text/plain": [
       "'6798seven7'"
      ]
     },
     "execution_count": 6,
     "metadata": {},
     "output_type": "execute_result"
    }
   ],
   "source": [
    "def convert_data(d):\n",
    "    for key, value in str_to_int.items():\n",
    "        d = d.replace(key, key + value).replace(' ', '')\n",
    "    return d\n",
    "\n",
    "convert_data(data[0])"
   ]
  },
  {
   "cell_type": "code",
   "execution_count": 7,
   "metadata": {},
   "outputs": [
    {
     "name": "stdout",
     "output_type": "stream",
     "text": [
      "55393\n"
     ]
    }
   ],
   "source": [
    "sum = 0\n",
    "for d in data:\n",
    "    d_ = convert_data(d)\n",
    "    list_int = list(filter(lambda x: x.isdigit(), d_))\n",
    "    value = list_int[0] + list_int[-1]\n",
    "    #print(d, d_, value)\n",
    "    sum += int(value)\n",
    "\n",
    "print(sum)"
   ]
  },
  {
   "cell_type": "markdown",
   "metadata": {},
   "source": [
    "# Part 2"
   ]
  },
  {
   "cell_type": "code",
   "execution_count": 8,
   "metadata": {},
   "outputs": [
    {
     "data": {
      "text/plain": [
       "'7'"
      ]
     },
     "execution_count": 8,
     "metadata": {},
     "output_type": "execute_result"
    }
   ],
   "source": [
    "def find_first(d):\n",
    "    input = ''\n",
    "    for i in range(len(d)):\n",
    "        if d[i].isdigit():\n",
    "            return d[i]\n",
    "        input += d[i]\n",
    "        for key, value in str_to_int.items():\n",
    "            if key in input:\n",
    "                return value\n",
    "\n",
    "find_first(data[0])\n",
    "\n",
    "def find_last(d):\n",
    "    input = ''\n",
    "    for i in range(len(d))[::-1]:\n",
    "        if d[i].isdigit():\n",
    "            return d[i]\n",
    "        input = d[i] + input\n",
    "        for key, value in str_to_int.items():\n",
    "            if key in input:\n",
    "                return value\n",
    "\n",
    "find_last(data[0])"
   ]
  },
  {
   "cell_type": "code",
   "execution_count": 9,
   "metadata": {},
   "outputs": [
    {
     "name": "stdout",
     "output_type": "stream",
     "text": [
      "55343\n"
     ]
    }
   ],
   "source": [
    "sum = 0\n",
    "for d in data:\n",
    "    f = find_first(d)\n",
    "    l = find_last(d)\n",
    "    value = f + l\n",
    "    sum += int(value)\n",
    "\n",
    "print(sum)"
   ]
  }
 ],
 "metadata": {
  "kernelspec": {
   "display_name": "Python 3",
   "language": "python",
   "name": "python3"
  },
  "language_info": {
   "codemirror_mode": {
    "name": "ipython",
    "version": 3
   },
   "file_extension": ".py",
   "mimetype": "text/x-python",
   "name": "python",
   "nbconvert_exporter": "python",
   "pygments_lexer": "ipython3",
   "version": "3.11.7"
  }
 },
 "nbformat": 4,
 "nbformat_minor": 2
}
