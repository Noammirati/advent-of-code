{
 "cells": [
  {
   "cell_type": "code",
   "execution_count": 3,
   "metadata": {},
   "outputs": [],
   "source": [
    "def read_file():\n",
    "    with open('day8.txt') as f:\n",
    "        input = f.read().strip()\n",
    "    return input\n",
    "\n",
    "def parse_node(input_node):\n",
    "    node_key, directions = input_node.split('=')\n",
    "    left, right = directions.split(',')\n",
    "    return node_key.strip(), (left.replace('(', '').strip(), right.replace(')', '').strip())\n",
    "\n",
    "def parse_nodes(input_nodes):\n",
    "    return dict(map(lambda x: parse_node(x), input_nodes.split('\\n')))\n",
    "\n",
    "def parse_input(input):\n",
    "    instructions, nodes = input.split('\\n\\n')\n",
    "    return instructions, parse_nodes(nodes)\n"
   ]
  },
  {
   "cell_type": "code",
   "execution_count": 4,
   "metadata": {},
   "outputs": [
    {
     "data": {
      "text/plain": [
       "20093"
      ]
     },
     "execution_count": 4,
     "metadata": {},
     "output_type": "execute_result"
    }
   ],
   "source": [
    "instructions, nodes = parse_input(read_file())\n",
    "\n",
    "instructions_dict = {'L' : 0, 'R' : 1}\n",
    "\n",
    "def count_steps(instructions, nodes):\n",
    "    current_node = 'AAA'\n",
    "    steps = 0\n",
    "    cursor = 0\n",
    "    while current_node != 'ZZZ':\n",
    "        #print(current_node, nodes[current_node], instructions[cursor], cursor, len(instructions))\n",
    "        current_node = nodes[current_node][instructions_dict[instructions[cursor]]]\n",
    "        steps += 1\n",
    "        if cursor == len(instructions) - 1:\n",
    "            cursor = 0\n",
    "        else :  \n",
    "            cursor += 1\n",
    "    return steps\n",
    "\n",
    "count_steps(instructions, nodes)\n"
   ]
  },
  {
   "cell_type": "markdown",
   "metadata": {},
   "source": [
    "# Part 2"
   ]
  },
  {
   "cell_type": "code",
   "execution_count": 13,
   "metadata": {},
   "outputs": [
    {
     "data": {
      "text/plain": [
       "['VGA', 'AAA', 'LHA', 'RHA', 'CVA', 'LDA']"
      ]
     },
     "execution_count": 13,
     "metadata": {},
     "output_type": "execute_result"
    }
   ],
   "source": [
    "def get_starting_nodes(nodes):\n",
    "    return list(filter(lambda x: x[2] == 'A', nodes))\n",
    "\n",
    "def is_ending_nodes(nodes):\n",
    "    for node in nodes:\n",
    "        if node[2] != 'Z':\n",
    "            return False\n",
    "        else :\n",
    "            print(node)\n",
    "    print(nodes)\n",
    "    return True\n",
    "\n",
    "get_starting_nodes(nodes)"
   ]
  },
  {
   "cell_type": "code",
   "execution_count": 15,
   "metadata": {},
   "outputs": [],
   "source": [
    "# Pas tres opti on va tenter autre chose ou cramer le pc maybe\n",
    "\n",
    "def count_steps_2(instructions, nodes):\n",
    "    current_nodes = get_starting_nodes(nodes)\n",
    "    steps = 0\n",
    "    cursor = 0\n",
    "    print(\"STARTING :\", current_nodes)\n",
    "    while not is_ending_nodes(current_nodes):\n",
    "        current_nodes = list(map(lambda x: nodes[x][instructions_dict[instructions[cursor]]], current_nodes))\n",
    "        steps += 1\n",
    "        if cursor == len(instructions) - 1:\n",
    "            cursor = 0\n",
    "        else :  \n",
    "            cursor += 1\n",
    "    return steps\n",
    "\n",
    "instructions, nodes = parse_input(read_file())\n",
    "\n",
    "#count_steps_2(instructions, nodes)"
   ]
  },
  {
   "cell_type": "code",
   "execution_count": 26,
   "metadata": {},
   "outputs": [
    {
     "name": "stdout",
     "output_type": "stream",
     "text": [
      "VGA [20659, 20659, 20659, 20659, 20659]\n",
      "AAA [20093, 20093, 20093, 20093, 20093]\n",
      "LHA [14999, 14999, 14999, 14999, 14999]\n",
      "RHA [17263, 17263, 17263, 17263, 17263]\n",
      "CVA [22357, 22357, 22357, 22357, 22357]\n",
      "LDA [16697, 16697, 16697, 16697, 16697]\n"
     ]
    },
    {
     "data": {
      "text/plain": [
       "22103062509257"
      ]
     },
     "execution_count": 26,
     "metadata": {},
     "output_type": "execute_result"
    }
   ],
   "source": [
    "def count_steps_in_cycle(starting_node):\n",
    "    current_node = starting_node\n",
    "    steps = 0\n",
    "    cursor = 0\n",
    "    cycle = 0\n",
    "    cycle_length = []\n",
    "    while cycle < 5:\n",
    "        #print(current_node, nodes[current_node], instructions[cursor], cursor, len(instructions))\n",
    "        current_node = nodes[current_node][instructions_dict[instructions[cursor]]]\n",
    "        steps += 1\n",
    "        if cursor == len(instructions) - 1:\n",
    "            cursor = 0\n",
    "        else :  \n",
    "            cursor += 1\n",
    "        if current_node[2] == 'Z':\n",
    "            cycle += 1\n",
    "            cycle_length.append(steps - sum(cycle_length))\n",
    "    #print(current_node, cycle_length)\n",
    "    return cycle_length\n",
    "\n",
    "\n",
    "# Code copier parce que je sais pas faire des maths\n",
    "def ppcm(*n):\n",
    "    #Calcul du 'Plus Petit Commun Multiple' de n (>=2) valeurs entières (Euclide)\n",
    "    def _pgcd(a,b):\n",
    "        while b: a, b = b, a%b\n",
    "        return a\n",
    "    p = abs(n[0]*n[1])//_pgcd(n[0], n[1])\n",
    "    for x in n[2:]:\n",
    "        p = abs(p*x)//_pgcd(p, x)\n",
    "    return p\n",
    "\n",
    "def get_cycle(starting_nodes):\n",
    "    res = []\n",
    "    for node in starting_nodes:\n",
    "        val = count_steps_in_cycle(node)\n",
    "        print(node, val)\n",
    "        res.append(val[0])\n",
    "    return ppcm(*res)\n",
    "\n",
    "\n",
    "instructions, nodes = parse_input(read_file())\n",
    "\n",
    "get_cycle(get_starting_nodes(nodes))"
   ]
  },
  {
   "cell_type": "code",
   "execution_count": null,
   "metadata": {},
   "outputs": [],
   "source": []
  }
 ],
 "metadata": {
  "kernelspec": {
   "display_name": "Python 3",
   "language": "python",
   "name": "python3"
  },
  "language_info": {
   "codemirror_mode": {
    "name": "ipython",
    "version": 3
   },
   "file_extension": ".py",
   "mimetype": "text/x-python",
   "name": "python",
   "nbconvert_exporter": "python",
   "pygments_lexer": "ipython3",
   "version": "3.11.7"
  }
 },
 "nbformat": 4,
 "nbformat_minor": 2
}
