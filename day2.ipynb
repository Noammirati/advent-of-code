{
 "cells": [
  {
   "cell_type": "code",
   "execution_count": 60,
   "metadata": {},
   "outputs": [
    {
     "name": "stdout",
     "output_type": "stream",
     "text": [
      "['Game 1: 14 green, 8 blue, 9 red; 5 blue, 4 green, 2 red; 4 red, 4 blue, 4 green; 1 blue, 3 green, 2 red; 10 red, 3 blue, 15 green; 2 red, 6 green, 3 blue', 'Game 2: 1 red, 12 green, 2 blue; 2 green, 1 blue, 1 red; 4 green, 2 blue; 10 green, 3 blue; 4 green, 2 red, 2 blue', 'Game 3: 16 red, 3 green; 7 green, 15 red, 3 blue; 4 green, 20 red, 1 blue; 12 red, 13 green, 1 blue; 2 green, 8 red, 1 blue; 16 red, 7 green', 'Game 4: 3 red, 7 blue; 4 blue, 3 green; 19 blue, 1 red, 3 green; 16 blue, 4 red, 5 green; 1 red, 19 blue, 3 green', 'Game 5: 7 blue, 4 red, 6 green; 2 red, 3 green, 6 blue; 11 blue, 1 red, 5 green', 'Game 6: 7 red, 13 blue; 2 green, 9 red, 7 blue; 7 green, 3 red, 12 blue; 11 green, 3 blue, 4 red; 12 green, 10 blue', 'Game 7: 2 green, 5 red; 4 green, 1 blue, 3 red; 1 blue, 1 green, 18 red; 4 green, 12 red, 1 blue', 'Game 8: 12 red, 9 green, 11 blue; 13 blue, 1 red, 16 green; 12 blue, 12 green; 3 green, 7 blue, 2 red', 'Game 9: 1 green, 9 red, 9 blue; 4 blue, 2 red; 17 red, 6 green, 3 blue; 3 green, 1 blue, 12 red', 'Game 10: 2 blue, 11 red, 3 green; 4 blue, 11 red, 13 green; 4 blue, 15 green, 4 red; 1 blue, 3 green, 17 red', 'Game 11: 9 green, 3 blue, 2 red; 11 blue, 16 green, 5 red; 7 blue, 3 red, 5 green; 7 red, 8 green, 10 blue', 'Game 12: 13 green, 2 red, 2 blue; 1 red, 6 green; 5 green, 3 red, 8 blue', 'Game 13: 2 blue, 5 green; 2 blue, 2 green; 2 blue, 2 red, 4 green', 'Game 14: 4 red, 2 green, 1 blue; 7 red, 1 green; 6 red, 18 green, 4 blue; 3 green, 1 blue', 'Game 15: 2 blue, 5 green, 12 red; 13 red, 8 green; 10 blue, 6 red, 8 green; 9 blue, 7 red; 2 green, 15 red; 9 blue, 3 green, 14 red', 'Game 16: 8 green, 11 blue, 14 red; 4 red, 8 green; 5 red, 4 blue, 3 green; 4 green, 13 blue, 6 red; 9 red, 8 blue, 11 green', 'Game 17: 8 red, 6 green; 5 blue, 7 green; 10 red, 6 blue; 9 blue, 10 green, 7 red; 1 red, 3 green, 5 blue', 'Game 18: 8 blue, 10 red; 6 red, 5 blue, 6 green; 16 green, 6 blue, 1 red; 16 red, 3 green, 5 blue', 'Game 19: 2 green, 17 blue; 2 blue, 4 green, 7 red; 6 red, 12 blue; 6 blue, 5 red, 10 green', 'Game 20: 4 green, 8 red, 9 blue; 6 blue, 4 green; 5 blue, 7 green, 9 red; 9 red, 9 blue, 6 green', 'Game 21: 1 green, 11 red, 2 blue; 6 red, 7 blue; 5 red, 1 green; 2 red, 7 blue', 'Game 22: 8 blue, 1 red, 4 green; 6 blue, 4 green, 14 red; 5 green, 8 red, 9 blue', 'Game 23: 4 blue, 12 red, 1 green; 1 green, 10 blue; 11 red, 2 blue; 1 blue, 1 green', 'Game 24: 5 blue, 1 green; 2 green, 2 blue, 4 red; 3 red, 5 blue', 'Game 25: 13 blue, 5 green, 4 red; 5 red, 17 blue; 6 blue, 8 green, 1 red; 2 blue, 1 red, 8 green; 3 red, 3 green', 'Game 26: 2 green, 9 red, 2 blue; 3 green, 19 red; 2 green, 16 red, 6 blue; 11 green, 4 red, 4 blue; 2 blue, 8 red, 13 green; 7 blue', 'Game 27: 1 red, 17 green, 1 blue; 4 red, 8 green; 1 blue, 7 green, 7 red; 18 green, 2 red', 'Game 28: 6 blue, 1 red; 2 blue, 1 red; 1 red, 1 green, 5 blue; 1 green; 1 green, 3 blue; 1 blue, 1 green', 'Game 29: 15 blue, 8 red, 1 green; 6 red, 2 green, 17 blue; 13 blue, 12 red; 12 blue, 2 green, 12 red; 5 red, 14 blue', 'Game 30: 4 blue, 6 green, 4 red; 3 blue, 2 green, 9 red; 5 green, 18 red; 9 blue, 16 red, 5 green', 'Game 31: 6 blue, 7 green, 4 red; 8 green, 6 blue, 10 red; 6 red, 2 green, 2 blue; 2 green, 4 blue, 6 red; 2 red, 7 green; 7 red, 13 green, 2 blue', 'Game 32: 5 blue; 2 green, 8 blue; 1 red, 6 blue, 2 green; 2 green, 11 blue', 'Game 33: 1 red, 7 green, 17 blue; 1 red, 14 blue, 2 green; 13 blue', 'Game 34: 12 red, 1 green, 1 blue; 11 red, 1 blue, 1 green; 16 red, 3 green; 9 red, 1 blue; 15 red, 2 blue; 1 green, 4 blue, 8 red', 'Game 35: 6 blue, 13 red, 1 green; 8 red, 9 blue, 6 green; 12 red, 8 green', 'Game 36: 5 blue, 3 red; 2 green, 3 red; 9 green, 6 red, 1 blue; 3 blue, 4 red, 9 green', 'Game 37: 14 blue, 3 red; 2 green, 2 red, 8 blue; 11 blue, 5 red', 'Game 38: 3 red, 18 green, 2 blue; 5 green, 5 red; 1 red, 12 green, 6 blue; 3 red, 5 blue, 1 green; 4 blue, 6 red, 17 green; 17 green, 6 blue, 3 red', 'Game 39: 5 green, 13 blue, 1 red; 6 green, 1 red, 12 blue; 1 red, 2 green, 11 blue; 1 red, 2 green, 12 blue', 'Game 40: 15 red; 14 red, 2 green, 4 blue; 13 red, 5 blue; 5 blue, 1 green, 18 red', 'Game 41: 2 red, 15 green; 11 red, 6 green, 17 blue; 10 green, 15 red, 9 blue; 8 red, 4 blue; 1 green, 13 blue, 13 red', 'Game 42: 3 green, 3 blue, 1 red; 2 red, 8 blue, 1 green; 7 blue, 2 red, 1 green', 'Game 43: 8 green, 10 red, 4 blue; 3 red, 11 green, 10 blue; 4 red, 5 blue, 2 green; 9 green, 10 red, 4 blue', 'Game 44: 3 green, 4 blue, 4 red; 10 red, 5 green, 4 blue; 1 green, 16 red; 2 blue, 15 red, 6 green; 13 red, 2 blue, 4 green', 'Game 45: 5 blue, 3 red; 1 red, 3 blue, 17 green; 2 red, 3 blue', 'Game 46: 9 blue, 10 green, 5 red; 1 red, 5 blue, 1 green; 6 blue, 8 green, 9 red; 2 red, 4 blue, 11 green', 'Game 47: 3 green, 7 red, 7 blue; 12 red, 1 blue; 6 blue, 4 green, 6 red; 6 red, 5 blue, 1 green', 'Game 48: 5 green, 1 blue; 2 green, 8 red, 4 blue; 16 red, 12 blue, 8 green', 'Game 49: 19 green, 4 blue, 9 red; 3 green, 1 blue, 8 red; 7 red, 1 blue, 14 green; 2 blue, 7 green, 2 red', 'Game 50: 6 blue, 11 red; 1 green, 8 blue, 11 red; 5 blue, 1 green; 4 blue, 12 red, 1 green; 1 green, 6 red, 8 blue; 7 blue, 5 red', 'Game 51: 5 red, 7 green; 8 green; 4 blue, 7 green, 2 red', 'Game 52: 3 blue, 12 red, 1 green; 13 red, 1 blue; 7 blue, 8 red; 7 blue, 9 red; 4 red, 5 green', 'Game 53: 2 blue; 1 green, 4 red, 12 blue; 1 green, 7 blue, 4 red; 8 blue, 1 green, 4 red', 'Game 54: 2 blue, 7 green; 1 red, 1 green, 2 blue; 5 red, 5 blue, 7 green; 5 red, 5 blue, 6 green; 7 green; 7 green, 2 blue, 5 red', 'Game 55: 2 green, 20 blue, 3 red; 2 red, 1 green, 1 blue; 2 green, 14 blue, 2 red; 2 red, 11 blue; 8 green, 4 blue, 2 red', 'Game 56: 5 red, 1 green, 10 blue; 2 red, 1 blue; 1 blue, 2 red; 1 green, 8 blue', 'Game 57: 1 green, 4 red, 5 blue; 20 blue, 4 red, 2 green; 17 blue, 1 green; 1 green, 10 blue, 1 red; 3 red, 17 blue', 'Game 58: 15 green, 2 blue; 15 green, 4 blue, 2 red; 14 blue, 5 red, 15 green; 15 green', 'Game 59: 1 blue; 5 green, 8 red, 1 blue; 15 red, 2 blue, 1 green', 'Game 60: 3 green, 4 blue, 16 red; 6 blue, 10 green, 10 red; 2 blue, 13 red, 8 green', 'Game 61: 2 green, 2 blue, 3 red; 7 blue, 15 red, 9 green; 5 green, 1 blue, 8 red; 4 blue, 6 green, 18 red', 'Game 62: 5 red, 7 blue, 13 green; 7 green, 6 blue, 8 red; 6 blue, 8 red, 12 green; 2 blue, 6 red; 5 red, 4 blue, 5 green', 'Game 63: 3 red; 5 blue, 2 red; 10 red, 1 green, 4 blue; 5 blue, 4 red, 3 green', 'Game 64: 7 blue, 3 green; 5 red, 6 green, 14 blue; 1 green, 12 blue, 9 red; 1 blue, 8 red, 12 green', 'Game 65: 12 red, 12 blue; 5 green, 12 blue, 11 red; 6 green, 3 red, 14 blue; 11 green, 4 red, 1 blue; 11 red, 3 green, 2 blue; 13 blue, 9 red, 5 green', 'Game 66: 1 red, 1 green; 3 blue, 6 red, 3 green; 6 blue, 1 green, 4 red; 8 green, 1 red', 'Game 67: 2 green, 8 blue; 5 red, 7 blue, 4 green; 8 red, 5 green, 5 blue; 2 red, 1 blue', 'Game 68: 3 green, 14 blue, 3 red; 16 blue, 7 green, 4 red; 10 blue, 6 red; 4 green, 3 blue, 5 red; 2 red, 14 blue, 8 green', 'Game 69: 11 red, 1 green; 1 green, 4 blue, 13 red; 18 red, 3 blue; 7 red, 1 green, 9 blue; 5 blue, 1 red, 1 green; 3 red, 4 blue', 'Game 70: 10 blue, 2 green, 4 red; 4 green, 4 red, 2 blue; 7 green, 5 red, 1 blue; 7 green, 3 red, 10 blue; 7 green, 2 blue, 5 red; 1 blue, 9 red, 2 green', 'Game 71: 1 green, 6 blue; 10 blue, 2 red, 1 green; 8 blue, 1 red; 11 blue, 2 green, 3 red; 1 green, 10 blue', 'Game 72: 10 blue, 3 red, 2 green; 11 red, 4 green, 3 blue; 1 blue, 4 red, 3 green', 'Game 73: 8 red, 17 green, 3 blue; 5 blue, 10 red, 8 green; 9 green, 12 red, 3 blue', 'Game 74: 5 green, 4 blue, 1 red; 4 red, 6 blue; 2 red; 2 blue, 1 red; 3 blue, 1 green, 3 red', 'Game 75: 4 blue; 3 red, 10 blue, 14 green; 8 blue, 3 red, 11 green', 'Game 76: 10 blue, 15 green, 5 red; 14 green; 6 blue, 10 red, 13 green; 2 green, 10 red, 6 blue; 1 red, 6 blue', 'Game 77: 3 green, 5 red, 8 blue; 14 red, 15 green; 14 green, 1 blue, 2 red', 'Game 78: 5 blue, 5 green; 9 blue, 2 green, 5 red; 4 red, 4 blue, 1 green; 3 red, 10 green, 2 blue; 4 red, 12 blue, 3 green; 4 green, 5 red, 13 blue', 'Game 79: 6 red, 1 green, 18 blue; 5 red, 11 blue, 2 green; 2 green, 4 red, 4 blue; 7 red, 17 blue; 9 red, 1 green, 3 blue', 'Game 80: 5 blue, 6 green, 6 red; 2 blue, 8 green, 8 red; 5 green, 16 blue, 3 red; 2 green, 3 red, 1 blue', 'Game 81: 11 green, 5 blue; 1 blue, 10 green, 1 red; 3 red, 3 blue, 15 green', 'Game 82: 14 red, 11 green; 2 green, 11 blue; 9 blue, 7 green, 7 red; 13 blue, 17 red, 3 green; 12 green, 15 blue, 8 red', 'Game 83: 2 green, 9 red, 4 blue; 3 green, 4 blue, 5 red; 2 green, 9 red, 7 blue; 4 blue, 3 green', 'Game 84: 4 red, 3 green, 6 blue; 2 blue, 5 red, 2 green; 6 blue, 1 red, 10 green; 1 green, 1 blue, 3 red; 16 blue, 6 red, 2 green', 'Game 85: 14 red, 4 green, 6 blue; 11 red, 2 green, 6 blue; 9 red; 3 blue, 13 red, 8 green; 3 green, 2 blue, 8 red', 'Game 86: 4 red, 1 green; 14 blue, 3 red, 2 green; 5 red, 3 green, 5 blue; 13 blue, 11 green, 1 red; 1 green, 14 blue, 3 red', 'Game 87: 1 blue, 2 green, 4 red; 11 blue, 3 green, 4 red; 11 blue; 4 green, 11 blue, 3 red; 4 blue, 5 green, 2 red', 'Game 88: 1 red, 1 blue, 1 green; 3 green, 1 blue, 1 red; 9 blue, 5 red, 5 green; 3 blue, 5 red, 8 green; 2 blue, 3 red, 13 green; 8 blue, 3 red, 9 green', 'Game 89: 3 green, 12 red, 11 blue; 10 red, 7 green, 14 blue; 17 green, 9 blue; 15 green, 1 red, 3 blue', 'Game 90: 12 green, 7 red, 5 blue; 12 green, 1 blue, 6 red; 6 red, 3 green', 'Game 91: 11 red, 10 green, 15 blue; 5 red, 6 green, 2 blue; 3 blue, 9 red, 7 green; 11 red, 1 green, 15 blue; 10 blue, 4 green; 9 red, 7 green, 14 blue', 'Game 92: 1 green, 6 red, 4 blue; 5 blue, 1 green; 6 red, 6 blue', 'Game 93: 19 red, 8 green, 9 blue; 7 blue, 1 red, 9 green; 2 red, 9 blue, 11 green; 1 blue, 4 green, 10 red; 10 blue, 11 red; 4 green, 8 blue, 16 red', 'Game 94: 11 red, 1 green, 1 blue; 4 green, 8 red; 2 red, 1 green; 4 green, 5 red; 5 red, 1 blue; 1 blue, 2 green, 9 red', 'Game 95: 6 green, 7 blue, 8 red; 1 red, 7 green; 16 green, 2 blue, 3 red; 5 green, 10 blue, 8 red; 5 red, 16 green, 3 blue; 4 red, 10 blue, 12 green', 'Game 96: 6 blue, 5 green, 6 red; 3 red, 5 blue, 4 green; 2 blue, 2 red, 3 green', 'Game 97: 3 red, 8 green; 2 blue, 3 green; 13 red, 10 green, 3 blue', 'Game 98: 4 green, 9 red, 2 blue; 1 blue, 5 green, 18 red; 3 green, 16 red; 15 red, 1 green, 2 blue', 'Game 99: 7 green, 2 red, 5 blue; 9 red, 17 green, 19 blue; 8 red, 12 blue, 1 green; 11 red, 11 green, 10 blue; 19 green, 4 blue, 2 red', 'Game 100: 4 blue, 3 green; 5 blue, 12 green; 16 green, 1 red, 1 blue; 2 blue, 1 green; 1 red, 3 blue, 18 green; 3 green, 1 red, 3 blue']\n"
     ]
    }
   ],
   "source": [
    "with open('day2.txt') as f:\n",
    "    data = f.read().strip()\n",
    "\n",
    "data = data.split('\\n')\n",
    "print(data)\n",
    "\n",
    "my_set = { 'red': 12, 'green' : 13 , 'blue' : 14}\n"
   ]
  },
  {
   "cell_type": "code",
   "execution_count": 61,
   "metadata": {},
   "outputs": [
    {
     "name": "stdout",
     "output_type": "stream",
     "text": [
      "True True\n",
      "True True\n",
      "False False\n"
     ]
    },
    {
     "data": {
      "text/plain": [
       "True"
      ]
     },
     "execution_count": 61,
     "metadata": {},
     "output_type": "execute_result"
    }
   ],
   "source": [
    "def is_possible(test_set):\n",
    "    for color, value in test_set.items():\n",
    "        if value > my_set[color]:\n",
    "            return False\n",
    "        \n",
    "    return True\n",
    "\n",
    "print(True, is_possible({ 'red' : 11}))\n",
    "print(True, is_possible({ 'red' : 11, 'green' : 2, 'blue' : 13}))\n",
    "print(False, is_possible({ 'red' : 13}))\n",
    "\n",
    "def check_play(play):\n",
    "    i = 0\n",
    "    ok = True\n",
    "    while ok:\n",
    "        if not is_possible(play[i]):\n",
    "            ok = False\n",
    "            break\n",
    "        if i == len(play) - 1:\n",
    "            break\n",
    "        i += 1\n",
    "    return ok\n",
    "\n",
    "check_play([{'blue': 3, 'red': 4}, {'red': 1, 'green': 2, 'blue': 6}, {'green': 2}])"
   ]
  },
  {
   "cell_type": "code",
   "execution_count": 62,
   "metadata": {},
   "outputs": [
    {
     "name": "stdout",
     "output_type": "stream",
     "text": [
      "(1, [{'green': 14, 'blue': 8, 'red': 9}, {'blue': 5, 'green': 4, 'red': 2}, {'red': 4, 'blue': 4, 'green': 4}, {'blue': 1, 'green': 3, 'red': 2}, {'red': 10, 'blue': 3, 'green': 15}, {'red': 2, 'green': 6, 'blue': 3}])\n"
     ]
    }
   ],
   "source": [
    "def parse_line(input):\n",
    "    id = int(input.split(':')[0].split()[1])\n",
    "    sets = list(map(lambda x: build_set(x), input.split(':')[1].split(';')))\n",
    "    return (id,  sets)\n",
    "\n",
    "def build_set(input_set):\n",
    "    inputs = input_set.split(',')\n",
    "    output = {}\n",
    "    for i in range(len(inputs)):\n",
    "        values = inputs[i].split()\n",
    "        output.update({values[1]: int(values[0])})\n",
    "    return output\n",
    "\n",
    "#build_set(' 3 blue, 4 red')\n",
    "print(parse_line(data[0]))"
   ]
  },
  {
   "cell_type": "code",
   "execution_count": 64,
   "metadata": {},
   "outputs": [
    {
     "data": {
      "text/plain": [
       "2256"
      ]
     },
     "execution_count": 64,
     "metadata": {},
     "output_type": "execute_result"
    }
   ],
   "source": [
    "def check_data():\n",
    "    plays = list(map(lambda x: parse_line(x), data))\n",
    "    #print(data, plays)\n",
    "    sum = 0\n",
    "    for play in plays:\n",
    "        #print(play)\n",
    "        if check_play(play[1]):\n",
    "            sum += play[0]\n",
    "    return sum\n",
    "\n",
    "check_data()"
   ]
  },
  {
   "cell_type": "code",
   "execution_count": 65,
   "metadata": {},
   "outputs": [
    {
     "data": {
      "text/plain": [
       "48"
      ]
     },
     "execution_count": 65,
     "metadata": {},
     "output_type": "execute_result"
    }
   ],
   "source": [
    "def play_max(play):\n",
    "    max = {}\n",
    "    for set in play:\n",
    "        for color, value in set.items():\n",
    "            if color not in max.keys():\n",
    "                max.update({color : value})\n",
    "            elif value > max[color]:\n",
    "                max.update({color : value})\n",
    "    return max\n",
    "\n",
    "play_max([{'blue': 3, 'red': 4}, {'red': 1, 'green': 2, 'blue': 6}, {'green': 2}])\n",
    "\n",
    "def get_power(play):\n",
    "    power = 1\n",
    "    max = play_max(play)\n",
    "    for value in max.items():\n",
    "        power *= value[1]\n",
    "    return power\n",
    "\n",
    "get_power([{'blue': 3, 'red': 4}, {'red': 1, 'green': 2, 'blue': 6}, {'green': 2}])\n"
   ]
  },
  {
   "cell_type": "code",
   "execution_count": 66,
   "metadata": {},
   "outputs": [
    {
     "data": {
      "text/plain": [
       "74229"
      ]
     },
     "execution_count": 66,
     "metadata": {},
     "output_type": "execute_result"
    }
   ],
   "source": [
    "def check_data_2():\n",
    "    plays = list(map(lambda x: parse_line(x), data))\n",
    "    #print(data, plays)\n",
    "    sum = 0\n",
    "    for play in plays:\n",
    "            sum += get_power(play[1])\n",
    "    return sum\n",
    "\n",
    "check_data_2()"
   ]
  },
  {
   "cell_type": "code",
   "execution_count": 55,
   "metadata": {},
   "outputs": [
    {
     "name": "stdout",
     "output_type": "stream",
     "text": [
      "(1, [{'green': 14, 'blue': 8, 'red': 9}, {'blue': 5, 'green': 4, 'red': 2}, {'red': 4, 'blue': 4, 'green': 4}, {'blue': 1, 'green': 3, 'red': 2}, {'red': 10, 'blue': 3, 'green': 15}, {'red': 2, 'green': 6, 'blue': 3}])\n",
      "(2, [{'red': 1, 'green': 12, 'blue': 2}, {'green': 2, 'blue': 1, 'red': 1}, {'green': 4, 'blue': 2}, {'green': 10, 'blue': 3}, {'green': 4, 'red': 2, 'blue': 2}])\n",
      "(3, [{'red': 16, 'green': 3}, {'green': 7, 'red': 15, 'blue': 3}, {'green': 4, 'red': 20, 'blue': 1}, {'red': 12, 'green': 13, 'blue': 1}, {'green': 2, 'red': 8, 'blue': 1}, {'red': 16, 'green': 7}])\n",
      "(4, [{'red': 3, 'blue': 7}, {'blue': 4, 'green': 3}, {'blue': 19, 'red': 1, 'green': 3}, {'blue': 16, 'red': 4, 'green': 5}, {'red': 1, 'blue': 19, 'green': 3}])\n",
      "(5, [{'blue': 7, 'red': 4, 'green': 6}, {'red': 2, 'green': 3, 'blue': 6}, {'blue': 11, 'red': 1, 'green': 5}])\n",
      "(6, [{'red': 7, 'blue': 13}, {'green': 2, 'red': 9, 'blue': 7}, {'green': 7, 'red': 3, 'blue': 12}, {'green': 11, 'blue': 3, 'red': 4}, {'green': 12, 'blue': 10}])\n",
      "(7, [{'green': 2, 'red': 5}, {'green': 4, 'blue': 1, 'red': 3}, {'blue': 1, 'green': 1, 'red': 18}, {'green': 4, 'red': 12, 'blue': 1}])\n",
      "(8, [{'red': 12, 'green': 9, 'blue': 11}, {'blue': 13, 'red': 1, 'green': 16}, {'blue': 12, 'green': 12}, {'green': 3, 'blue': 7, 'red': 2}])\n",
      "(9, [{'green': 1, 'red': 9, 'blue': 9}, {'blue': 4, 'red': 2}, {'red': 17, 'green': 6, 'blue': 3}, {'green': 3, 'blue': 1, 'red': 12}])\n",
      "(10, [{'blue': 2, 'red': 11, 'green': 3}, {'blue': 4, 'red': 11, 'green': 13}, {'blue': 4, 'green': 15, 'red': 4}, {'blue': 1, 'green': 3, 'red': 17}])\n",
      "(11, [{'green': 9, 'blue': 3, 'red': 2}, {'blue': 11, 'green': 16, 'red': 5}, {'blue': 7, 'red': 3, 'green': 5}, {'red': 7, 'green': 8, 'blue': 10}])\n",
      "(12, [{'green': 13, 'red': 2, 'blue': 2}, {'red': 1, 'green': 6}, {'green': 5, 'red': 3, 'blue': 8}])\n",
      "(13, [{'blue': 2, 'green': 5}, {'blue': 2, 'green': 2}, {'blue': 2, 'red': 2, 'green': 4}])\n",
      "(14, [{'red': 4, 'green': 2, 'blue': 1}, {'red': 7, 'green': 1}, {'red': 6, 'green': 18, 'blue': 4}, {'green': 3, 'blue': 1}])\n",
      "(15, [{'blue': 2, 'green': 5, 'red': 12}, {'red': 13, 'green': 8}, {'blue': 10, 'red': 6, 'green': 8}, {'blue': 9, 'red': 7}, {'green': 2, 'red': 15}, {'blue': 9, 'green': 3, 'red': 14}])\n",
      "(16, [{'green': 8, 'blue': 11, 'red': 14}, {'red': 4, 'green': 8}, {'red': 5, 'blue': 4, 'green': 3}, {'green': 4, 'blue': 13, 'red': 6}, {'red': 9, 'blue': 8, 'green': 11}])\n",
      "(17, [{'red': 8, 'green': 6}, {'blue': 5, 'green': 7}, {'red': 10, 'blue': 6}, {'blue': 9, 'green': 10, 'red': 7}, {'red': 1, 'green': 3, 'blue': 5}])\n",
      "(18, [{'blue': 8, 'red': 10}, {'red': 6, 'blue': 5, 'green': 6}, {'green': 16, 'blue': 6, 'red': 1}, {'red': 16, 'green': 3, 'blue': 5}])\n",
      "(19, [{'green': 2, 'blue': 17}, {'blue': 2, 'green': 4, 'red': 7}, {'red': 6, 'blue': 12}, {'blue': 6, 'red': 5, 'green': 10}])\n",
      "(20, [{'green': 4, 'red': 8, 'blue': 9}, {'blue': 6, 'green': 4}, {'blue': 5, 'green': 7, 'red': 9}, {'red': 9, 'blue': 9, 'green': 6}])\n",
      "(21, [{'green': 1, 'red': 11, 'blue': 2}, {'red': 6, 'blue': 7}, {'red': 5, 'green': 1}, {'red': 2, 'blue': 7}])\n",
      "(22, [{'blue': 8, 'red': 1, 'green': 4}, {'blue': 6, 'green': 4, 'red': 14}, {'green': 5, 'red': 8, 'blue': 9}])\n",
      "(23, [{'blue': 4, 'red': 12, 'green': 1}, {'green': 1, 'blue': 10}, {'red': 11, 'blue': 2}, {'blue': 1, 'green': 1}])\n",
      "(24, [{'blue': 5, 'green': 1}, {'green': 2, 'blue': 2, 'red': 4}, {'red': 3, 'blue': 5}])\n",
      "(25, [{'blue': 13, 'green': 5, 'red': 4}, {'red': 5, 'blue': 17}, {'blue': 6, 'green': 8, 'red': 1}, {'blue': 2, 'red': 1, 'green': 8}, {'red': 3, 'green': 3}])\n",
      "(26, [{'green': 2, 'red': 9, 'blue': 2}, {'green': 3, 'red': 19}, {'green': 2, 'red': 16, 'blue': 6}, {'green': 11, 'red': 4, 'blue': 4}, {'blue': 2, 'red': 8, 'green': 13}, {'blue': 7}])\n",
      "(27, [{'red': 1, 'green': 17, 'blue': 1}, {'red': 4, 'green': 8}, {'blue': 1, 'green': 7, 'red': 7}, {'green': 18, 'red': 2}])\n",
      "(28, [{'blue': 6, 'red': 1}, {'blue': 2, 'red': 1}, {'red': 1, 'green': 1, 'blue': 5}, {'green': 1}, {'green': 1, 'blue': 3}, {'blue': 1, 'green': 1}])\n",
      "(29, [{'blue': 15, 'red': 8, 'green': 1}, {'red': 6, 'green': 2, 'blue': 17}, {'blue': 13, 'red': 12}, {'blue': 12, 'green': 2, 'red': 12}, {'red': 5, 'blue': 14}])\n",
      "(30, [{'blue': 4, 'green': 6, 'red': 4}, {'blue': 3, 'green': 2, 'red': 9}, {'green': 5, 'red': 18}, {'blue': 9, 'red': 16, 'green': 5}])\n",
      "(31, [{'blue': 6, 'green': 7, 'red': 4}, {'green': 8, 'blue': 6, 'red': 10}, {'red': 6, 'green': 2, 'blue': 2}, {'green': 2, 'blue': 4, 'red': 6}, {'red': 2, 'green': 7}, {'red': 7, 'green': 13, 'blue': 2}])\n",
      "(32, [{'blue': 5}, {'green': 2, 'blue': 8}, {'red': 1, 'blue': 6, 'green': 2}, {'green': 2, 'blue': 11}])\n",
      "(33, [{'red': 1, 'green': 7, 'blue': 17}, {'red': 1, 'blue': 14, 'green': 2}, {'blue': 13}])\n",
      "(34, [{'red': 12, 'green': 1, 'blue': 1}, {'red': 11, 'blue': 1, 'green': 1}, {'red': 16, 'green': 3}, {'red': 9, 'blue': 1}, {'red': 15, 'blue': 2}, {'green': 1, 'blue': 4, 'red': 8}])\n",
      "(35, [{'blue': 6, 'red': 13, 'green': 1}, {'red': 8, 'blue': 9, 'green': 6}, {'red': 12, 'green': 8}])\n",
      "(36, [{'blue': 5, 'red': 3}, {'green': 2, 'red': 3}, {'green': 9, 'red': 6, 'blue': 1}, {'blue': 3, 'red': 4, 'green': 9}])\n",
      "(37, [{'blue': 14, 'red': 3}, {'green': 2, 'red': 2, 'blue': 8}, {'blue': 11, 'red': 5}])\n",
      "(38, [{'red': 3, 'green': 18, 'blue': 2}, {'green': 5, 'red': 5}, {'red': 1, 'green': 12, 'blue': 6}, {'red': 3, 'blue': 5, 'green': 1}, {'blue': 4, 'red': 6, 'green': 17}, {'green': 17, 'blue': 6, 'red': 3}])\n",
      "(39, [{'green': 5, 'blue': 13, 'red': 1}, {'green': 6, 'red': 1, 'blue': 12}, {'red': 1, 'green': 2, 'blue': 11}, {'red': 1, 'green': 2, 'blue': 12}])\n",
      "(40, [{'red': 15}, {'red': 14, 'green': 2, 'blue': 4}, {'red': 13, 'blue': 5}, {'blue': 5, 'green': 1, 'red': 18}])\n",
      "(41, [{'red': 2, 'green': 15}, {'red': 11, 'green': 6, 'blue': 17}, {'green': 10, 'red': 15, 'blue': 9}, {'red': 8, 'blue': 4}, {'green': 1, 'blue': 13, 'red': 13}])\n",
      "(42, [{'green': 3, 'blue': 3, 'red': 1}, {'red': 2, 'blue': 8, 'green': 1}, {'blue': 7, 'red': 2, 'green': 1}])\n",
      "(43, [{'green': 8, 'red': 10, 'blue': 4}, {'red': 3, 'green': 11, 'blue': 10}, {'red': 4, 'blue': 5, 'green': 2}, {'green': 9, 'red': 10, 'blue': 4}])\n",
      "(44, [{'green': 3, 'blue': 4, 'red': 4}, {'red': 10, 'green': 5, 'blue': 4}, {'green': 1, 'red': 16}, {'blue': 2, 'red': 15, 'green': 6}, {'red': 13, 'blue': 2, 'green': 4}])\n",
      "(45, [{'blue': 5, 'red': 3}, {'red': 1, 'blue': 3, 'green': 17}, {'red': 2, 'blue': 3}])\n",
      "(46, [{'blue': 9, 'green': 10, 'red': 5}, {'red': 1, 'blue': 5, 'green': 1}, {'blue': 6, 'green': 8, 'red': 9}, {'red': 2, 'blue': 4, 'green': 11}])\n",
      "(47, [{'green': 3, 'red': 7, 'blue': 7}, {'red': 12, 'blue': 1}, {'blue': 6, 'green': 4, 'red': 6}, {'red': 6, 'blue': 5, 'green': 1}])\n",
      "(48, [{'green': 5, 'blue': 1}, {'green': 2, 'red': 8, 'blue': 4}, {'red': 16, 'blue': 12, 'green': 8}])\n",
      "(49, [{'green': 19, 'blue': 4, 'red': 9}, {'green': 3, 'blue': 1, 'red': 8}, {'red': 7, 'blue': 1, 'green': 14}, {'blue': 2, 'green': 7, 'red': 2}])\n",
      "(50, [{'blue': 6, 'red': 11}, {'green': 1, 'blue': 8, 'red': 11}, {'blue': 5, 'green': 1}, {'blue': 4, 'red': 12, 'green': 1}, {'green': 1, 'red': 6, 'blue': 8}, {'blue': 7, 'red': 5}])\n",
      "(51, [{'red': 5, 'green': 7}, {'green': 8}, {'blue': 4, 'green': 7, 'red': 2}])\n",
      "(52, [{'blue': 3, 'red': 12, 'green': 1}, {'red': 13, 'blue': 1}, {'blue': 7, 'red': 8}, {'blue': 7, 'red': 9}, {'red': 4, 'green': 5}])\n",
      "(53, [{'blue': 2}, {'green': 1, 'red': 4, 'blue': 12}, {'green': 1, 'blue': 7, 'red': 4}, {'blue': 8, 'green': 1, 'red': 4}])\n",
      "(54, [{'blue': 2, 'green': 7}, {'red': 1, 'green': 1, 'blue': 2}, {'red': 5, 'blue': 5, 'green': 7}, {'red': 5, 'blue': 5, 'green': 6}, {'green': 7}, {'green': 7, 'blue': 2, 'red': 5}])\n",
      "(55, [{'green': 2, 'blue': 20, 'red': 3}, {'red': 2, 'green': 1, 'blue': 1}, {'green': 2, 'blue': 14, 'red': 2}, {'red': 2, 'blue': 11}, {'green': 8, 'blue': 4, 'red': 2}])\n",
      "(56, [{'red': 5, 'green': 1, 'blue': 10}, {'red': 2, 'blue': 1}, {'blue': 1, 'red': 2}, {'green': 1, 'blue': 8}])\n",
      "(57, [{'green': 1, 'red': 4, 'blue': 5}, {'blue': 20, 'red': 4, 'green': 2}, {'blue': 17, 'green': 1}, {'green': 1, 'blue': 10, 'red': 1}, {'red': 3, 'blue': 17}])\n",
      "(58, [{'green': 15, 'blue': 2}, {'green': 15, 'blue': 4, 'red': 2}, {'blue': 14, 'red': 5, 'green': 15}, {'green': 15}])\n",
      "(59, [{'blue': 1}, {'green': 5, 'red': 8, 'blue': 1}, {'red': 15, 'blue': 2, 'green': 1}])\n",
      "(60, [{'green': 3, 'blue': 4, 'red': 16}, {'blue': 6, 'green': 10, 'red': 10}, {'blue': 2, 'red': 13, 'green': 8}])\n",
      "(61, [{'green': 2, 'blue': 2, 'red': 3}, {'blue': 7, 'red': 15, 'green': 9}, {'green': 5, 'blue': 1, 'red': 8}, {'blue': 4, 'green': 6, 'red': 18}])\n",
      "(62, [{'red': 5, 'blue': 7, 'green': 13}, {'green': 7, 'blue': 6, 'red': 8}, {'blue': 6, 'red': 8, 'green': 12}, {'blue': 2, 'red': 6}, {'red': 5, 'blue': 4, 'green': 5}])\n",
      "(63, [{'red': 3}, {'blue': 5, 'red': 2}, {'red': 10, 'green': 1, 'blue': 4}, {'blue': 5, 'red': 4, 'green': 3}])\n",
      "(64, [{'blue': 7, 'green': 3}, {'red': 5, 'green': 6, 'blue': 14}, {'green': 1, 'blue': 12, 'red': 9}, {'blue': 1, 'red': 8, 'green': 12}])\n",
      "(65, [{'red': 12, 'blue': 12}, {'green': 5, 'blue': 12, 'red': 11}, {'green': 6, 'red': 3, 'blue': 14}, {'green': 11, 'red': 4, 'blue': 1}, {'red': 11, 'green': 3, 'blue': 2}, {'blue': 13, 'red': 9, 'green': 5}])\n",
      "(66, [{'red': 1, 'green': 1}, {'blue': 3, 'red': 6, 'green': 3}, {'blue': 6, 'green': 1, 'red': 4}, {'green': 8, 'red': 1}])\n",
      "(67, [{'green': 2, 'blue': 8}, {'red': 5, 'blue': 7, 'green': 4}, {'red': 8, 'green': 5, 'blue': 5}, {'red': 2, 'blue': 1}])\n",
      "(68, [{'green': 3, 'blue': 14, 'red': 3}, {'blue': 16, 'green': 7, 'red': 4}, {'blue': 10, 'red': 6}, {'green': 4, 'blue': 3, 'red': 5}, {'red': 2, 'blue': 14, 'green': 8}])\n",
      "(69, [{'red': 11, 'green': 1}, {'green': 1, 'blue': 4, 'red': 13}, {'red': 18, 'blue': 3}, {'red': 7, 'green': 1, 'blue': 9}, {'blue': 5, 'red': 1, 'green': 1}, {'red': 3, 'blue': 4}])\n",
      "(70, [{'blue': 10, 'green': 2, 'red': 4}, {'green': 4, 'red': 4, 'blue': 2}, {'green': 7, 'red': 5, 'blue': 1}, {'green': 7, 'red': 3, 'blue': 10}, {'green': 7, 'blue': 2, 'red': 5}, {'blue': 1, 'red': 9, 'green': 2}])\n",
      "(71, [{'green': 1, 'blue': 6}, {'blue': 10, 'red': 2, 'green': 1}, {'blue': 8, 'red': 1}, {'blue': 11, 'green': 2, 'red': 3}, {'green': 1, 'blue': 10}])\n",
      "(72, [{'blue': 10, 'red': 3, 'green': 2}, {'red': 11, 'green': 4, 'blue': 3}, {'blue': 1, 'red': 4, 'green': 3}])\n",
      "(73, [{'red': 8, 'green': 17, 'blue': 3}, {'blue': 5, 'red': 10, 'green': 8}, {'green': 9, 'red': 12, 'blue': 3}])\n",
      "(74, [{'green': 5, 'blue': 4, 'red': 1}, {'red': 4, 'blue': 6}, {'red': 2}, {'blue': 2, 'red': 1}, {'blue': 3, 'green': 1, 'red': 3}])\n",
      "(75, [{'blue': 4}, {'red': 3, 'blue': 10, 'green': 14}, {'blue': 8, 'red': 3, 'green': 11}])\n",
      "(76, [{'blue': 10, 'green': 15, 'red': 5}, {'green': 14}, {'blue': 6, 'red': 10, 'green': 13}, {'green': 2, 'red': 10, 'blue': 6}, {'red': 1, 'blue': 6}])\n",
      "(77, [{'green': 3, 'red': 5, 'blue': 8}, {'red': 14, 'green': 15}, {'green': 14, 'blue': 1, 'red': 2}])\n",
      "(78, [{'blue': 5, 'green': 5}, {'blue': 9, 'green': 2, 'red': 5}, {'red': 4, 'blue': 4, 'green': 1}, {'red': 3, 'green': 10, 'blue': 2}, {'red': 4, 'blue': 12, 'green': 3}, {'green': 4, 'red': 5, 'blue': 13}])\n",
      "(79, [{'red': 6, 'green': 1, 'blue': 18}, {'red': 5, 'blue': 11, 'green': 2}, {'green': 2, 'red': 4, 'blue': 4}, {'red': 7, 'blue': 17}, {'red': 9, 'green': 1, 'blue': 3}])\n",
      "(80, [{'blue': 5, 'green': 6, 'red': 6}, {'blue': 2, 'green': 8, 'red': 8}, {'green': 5, 'blue': 16, 'red': 3}, {'green': 2, 'red': 3, 'blue': 1}])\n",
      "(81, [{'green': 11, 'blue': 5}, {'blue': 1, 'green': 10, 'red': 1}, {'red': 3, 'blue': 3, 'green': 15}])\n",
      "(82, [{'red': 14, 'green': 11}, {'green': 2, 'blue': 11}, {'blue': 9, 'green': 7, 'red': 7}, {'blue': 13, 'red': 17, 'green': 3}, {'green': 12, 'blue': 15, 'red': 8}])\n",
      "(83, [{'green': 2, 'red': 9, 'blue': 4}, {'green': 3, 'blue': 4, 'red': 5}, {'green': 2, 'red': 9, 'blue': 7}, {'blue': 4, 'green': 3}])\n",
      "(84, [{'red': 4, 'green': 3, 'blue': 6}, {'blue': 2, 'red': 5, 'green': 2}, {'blue': 6, 'red': 1, 'green': 10}, {'green': 1, 'blue': 1, 'red': 3}, {'blue': 16, 'red': 6, 'green': 2}])\n",
      "(85, [{'red': 14, 'green': 4, 'blue': 6}, {'red': 11, 'green': 2, 'blue': 6}, {'red': 9}, {'blue': 3, 'red': 13, 'green': 8}, {'green': 3, 'blue': 2, 'red': 8}])\n",
      "(86, [{'red': 4, 'green': 1}, {'blue': 14, 'red': 3, 'green': 2}, {'red': 5, 'green': 3, 'blue': 5}, {'blue': 13, 'green': 11, 'red': 1}, {'green': 1, 'blue': 14, 'red': 3}])\n",
      "(87, [{'blue': 1, 'green': 2, 'red': 4}, {'blue': 11, 'green': 3, 'red': 4}, {'blue': 11}, {'green': 4, 'blue': 11, 'red': 3}, {'blue': 4, 'green': 5, 'red': 2}])\n",
      "(88, [{'red': 1, 'blue': 1, 'green': 1}, {'green': 3, 'blue': 1, 'red': 1}, {'blue': 9, 'red': 5, 'green': 5}, {'blue': 3, 'red': 5, 'green': 8}, {'blue': 2, 'red': 3, 'green': 13}, {'blue': 8, 'red': 3, 'green': 9}])\n",
      "(89, [{'green': 3, 'red': 12, 'blue': 11}, {'red': 10, 'green': 7, 'blue': 14}, {'green': 17, 'blue': 9}, {'green': 15, 'red': 1, 'blue': 3}])\n",
      "(90, [{'green': 12, 'red': 7, 'blue': 5}, {'green': 12, 'blue': 1, 'red': 6}, {'red': 6, 'green': 3}])\n",
      "(91, [{'red': 11, 'green': 10, 'blue': 15}, {'red': 5, 'green': 6, 'blue': 2}, {'blue': 3, 'red': 9, 'green': 7}, {'red': 11, 'green': 1, 'blue': 15}, {'blue': 10, 'green': 4}, {'red': 9, 'green': 7, 'blue': 14}])\n",
      "(92, [{'green': 1, 'red': 6, 'blue': 4}, {'blue': 5, 'green': 1}, {'red': 6, 'blue': 6}])\n",
      "(93, [{'red': 19, 'green': 8, 'blue': 9}, {'blue': 7, 'red': 1, 'green': 9}, {'red': 2, 'blue': 9, 'green': 11}, {'blue': 1, 'green': 4, 'red': 10}, {'blue': 10, 'red': 11}, {'green': 4, 'blue': 8, 'red': 16}])\n",
      "(94, [{'red': 11, 'green': 1, 'blue': 1}, {'green': 4, 'red': 8}, {'red': 2, 'green': 1}, {'green': 4, 'red': 5}, {'red': 5, 'blue': 1}, {'blue': 1, 'green': 2, 'red': 9}])\n",
      "(95, [{'green': 6, 'blue': 7, 'red': 8}, {'red': 1, 'green': 7}, {'green': 16, 'blue': 2, 'red': 3}, {'green': 5, 'blue': 10, 'red': 8}, {'red': 5, 'green': 16, 'blue': 3}, {'red': 4, 'blue': 10, 'green': 12}])\n",
      "(96, [{'blue': 6, 'green': 5, 'red': 6}, {'red': 3, 'blue': 5, 'green': 4}, {'blue': 2, 'red': 2, 'green': 3}])\n",
      "(97, [{'red': 3, 'green': 8}, {'blue': 2, 'green': 3}, {'red': 13, 'green': 10, 'blue': 3}])\n",
      "(98, [{'green': 4, 'red': 9, 'blue': 2}, {'blue': 1, 'green': 5, 'red': 18}, {'green': 3, 'red': 16}, {'red': 15, 'green': 1, 'blue': 2}])\n",
      "(99, [{'green': 7, 'red': 2, 'blue': 5}, {'red': 9, 'green': 17, 'blue': 19}, {'red': 8, 'blue': 12, 'green': 1}, {'red': 11, 'green': 11, 'blue': 10}, {'green': 19, 'blue': 4, 'red': 2}])\n",
      "(100, [{'blue': 4, 'green': 3}, {'blue': 5, 'green': 12}, {'green': 16, 'red': 1, 'blue': 1}, {'blue': 2, 'green': 1}, {'red': 1, 'blue': 3, 'green': 18}, {'green': 3, 'red': 1, 'blue': 3}])\n"
     ]
    },
    {
     "data": {
      "text/plain": [
       "2256"
      ]
     },
     "execution_count": 55,
     "metadata": {},
     "output_type": "execute_result"
    }
   ],
   "source": [
    "\n",
    "\n"
   ]
  }
 ],
 "metadata": {
  "kernelspec": {
   "display_name": "Python 3",
   "language": "python",
   "name": "python3"
  },
  "language_info": {
   "codemirror_mode": {
    "name": "ipython",
    "version": 3
   },
   "file_extension": ".py",
   "mimetype": "text/x-python",
   "name": "python",
   "nbconvert_exporter": "python",
   "pygments_lexer": "ipython3",
   "version": "3.11.7"
  }
 },
 "nbformat": 4,
 "nbformat_minor": 2
}
