{
 "cells": [
  {
   "cell_type": "code",
   "execution_count": 14,
   "metadata": {},
   "outputs": [
    {
     "name": "stdout",
     "output_type": "stream",
     "text": [
      "[47, 70, 75, 66] [282, 1079, 1147, 1062]\n"
     ]
    }
   ],
   "source": [
    "def read_file():\n",
    "    with open('day6.txt') as f:\n",
    "        input = f.read().strip()\n",
    "    return input\n",
    "\n",
    "def get_line_values(line):\n",
    "    return list(map(lambda x: int(x), line.split(':')[1].split()))\n",
    "\n",
    "def parse_input(input):\n",
    "    lines = input.split('\\n')\n",
    "    return get_line_values(lines[0]), get_line_values(lines[1])\n",
    "\n",
    "def get_tables():\n",
    "    return parse_input(read_file())\n",
    "\n",
    "time_table, record_table = get_tables()\n",
    "\n",
    "print(time_table, record_table)\n"
   ]
  },
  {
   "cell_type": "code",
   "execution_count": 17,
   "metadata": {},
   "outputs": [
    {
     "data": {
      "text/plain": [
       "71503"
      ]
     },
     "execution_count": 17,
     "metadata": {},
     "output_type": "execute_result"
    }
   ],
   "source": [
    "def get_race_options(time):\n",
    "    options = []\n",
    "    for ms in range(time):\n",
    "        options.append(ms * (time - ms))\n",
    "    return options\n",
    "\n",
    "def ways_record_beaten(time, record):\n",
    "    options = get_race_options(time)\n",
    "    return len(list(filter(lambda x: x > record, options)))\n",
    "\n",
    "def get_results():\n",
    "    res = 1;\n",
    "    for i in range(len(time_table)):\n",
    "        res *= ways_record_beaten(time_table[i], record_table[i])\n",
    "    return res\n",
    "\n",
    "get_results()\n",
    "\n",
    "\n"
   ]
  },
  {
   "cell_type": "markdown",
   "metadata": {},
   "source": [
    "# Part 2"
   ]
  },
  {
   "cell_type": "code",
   "execution_count": 23,
   "metadata": {},
   "outputs": [
    {
     "name": "stdout",
     "output_type": "stream",
     "text": [
      "47707566 282107911471062\n"
     ]
    },
    {
     "data": {
      "text/plain": [
       "33875953"
      ]
     },
     "execution_count": 23,
     "metadata": {},
     "output_type": "execute_result"
    }
   ],
   "source": [
    "def get_line_value_2(line):\n",
    "    tab = line.split(':')[1].split()\n",
    "    out = ''\n",
    "    for n in tab:\n",
    "        out += n\n",
    "    return int(out)\n",
    "\n",
    "def parse_input_2(input):\n",
    "    lines = input.split('\\n')\n",
    "    return get_line_value_2(lines[0]), get_line_value_2(lines[1])\n",
    "\n",
    "def get_values():\n",
    "    return parse_input_2(read_file())\n",
    "\n",
    "time, record = get_values()\n",
    "\n",
    "print(time, record)\n",
    "\n",
    "# Python goes brrrr\n",
    "ways_record_beaten(time, record)\n",
    "\n"
   ]
  }
 ],
 "metadata": {
  "kernelspec": {
   "display_name": "Python 3",
   "language": "python",
   "name": "python3"
  },
  "language_info": {
   "codemirror_mode": {
    "name": "ipython",
    "version": 3
   },
   "file_extension": ".py",
   "mimetype": "text/x-python",
   "name": "python",
   "nbconvert_exporter": "python",
   "pygments_lexer": "ipython3",
   "version": "3.11.7"
  }
 },
 "nbformat": 4,
 "nbformat_minor": 2
}
